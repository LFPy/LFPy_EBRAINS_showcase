{
 "cells": [
  {
   "cell_type": "markdown",
   "metadata": {},
   "source": [
    "# Example: LFPy test suite\n",
    "\n",
    "This example notebook submits a job to a chosen compute cluster (**JUSUF**), loads a **Singularity** container with a working **LFPy** installation and runs **LFPy**'s built in unit test suite (`LFPy.run_tests()`) before exiting. "
   ]
  },
  {
   "cell_type": "code",
   "execution_count": 1,
   "metadata": {},
   "outputs": [
    {
     "name": "stdout",
     "output_type": "stream",
     "text": [
      "Requirement already up-to-date: pyunicore in /opt/app-root/lib/python3.6/site-packages (0.8.0)\n",
      "Requirement already satisfied, skipping upgrade: requests>=2.5 in /opt/app-root/lib/python3.6/site-packages (from pyunicore) (2.23.0)\n",
      "Requirement already satisfied, skipping upgrade: PyJWT>=1.7 in /opt/app-root/lib/python3.6/site-packages (from pyunicore) (1.7.1)\n",
      "Requirement already satisfied, skipping upgrade: chardet<4,>=3.0.2 in /opt/app-root/lib/python3.6/site-packages (from requests>=2.5->pyunicore) (3.0.4)\n",
      "Requirement already satisfied, skipping upgrade: idna<3,>=2.5 in /opt/app-root/lib/python3.6/site-packages (from requests>=2.5->pyunicore) (2.9)\n",
      "Requirement already satisfied, skipping upgrade: certifi>=2017.4.17 in /opt/app-root/lib/python3.6/site-packages (from requests>=2.5->pyunicore) (2019.11.28)\n",
      "Requirement already satisfied, skipping upgrade: urllib3!=1.25.0,!=1.25.1,<1.26,>=1.21.1 in /opt/app-root/lib/python3.6/site-packages (from requests>=2.5->pyunicore) (1.25.8)\n",
      "\u001b[33mWARNING: You are using pip version 20.0.2; however, version 20.2.4 is available.\n",
      "You should consider upgrading via the '/opt/app-root/bin/python3 -m pip install --upgrade pip' command.\u001b[0m\n"
     ]
    }
   ],
   "source": [
    "# use the pyunicore library\n",
    "!pip install pyunicore --upgrade"
   ]
  },
  {
   "cell_type": "code",
   "execution_count": 23,
   "metadata": {},
   "outputs": [],
   "source": [
    "# import modules\n",
    "import os\n",
    "import pyunicore.client as unicore_client\n",
    "import requests\n",
    "import json\n",
    "from time import sleep, time\n",
    "from pprint import pprint"
   ]
  },
  {
   "cell_type": "code",
   "execution_count": 6,
   "metadata": {},
   "outputs": [
    {
     "data": {
      "text/plain": [
       "'https://hbp-unic.fz-juelich.de:7112/HBP/rest/registries/default_registry'"
      ]
     },
     "execution_count": 6,
     "metadata": {},
     "output_type": "execute_result"
    }
   ],
   "source": [
    "unicore_client._HBP_REGISTRY_URL"
   ]
  },
  {
   "cell_type": "code",
   "execution_count": 7,
   "metadata": {},
   "outputs": [],
   "source": [
    "# Create connection to supercomputer (i.e., JUSUF)\n",
    "supercomputer = 'JUSUF'\n",
    "tr = unicore_client.Transport(clb_oauth.get_token())\n",
    "r = unicore_client.Registry(tr, unicore_client._HBP_REGISTRY_URL)"
   ]
  },
  {
   "cell_type": "code",
   "execution_count": 9,
   "metadata": {},
   "outputs": [
    {
     "data": {
      "text/plain": [
       "{'RWTH': 'https://unicore.hpc.itc.rwth-aachen.de:8080/RWTH/rest/core',\n",
       " 'FZJ_JURECA': 'https://zam2125.zam.kfa-juelich.de:9112/FZJ_JURECA/rest/core',\n",
       " 'JUWELS': 'https://zam2125.zam.kfa-juelich.de:9112/JUWELS/rest/core',\n",
       " 'UNICORE-TEST': 'https://catto.cscs.ch:8080/UNICORE-TEST/rest/core',\n",
       " 'DAINT-CSCS': 'https://brissago.cscs.ch:8080/DAINT-CSCS/rest/core',\n",
       " 'BSC-MareNostrum': 'https://unicore-hbp.bsc.es:8080/BSC-MareNostrum/rest/core',\n",
       " 'irene': 'https://hbp-unicore.ccc.cea.fr/irene/rest/core',\n",
       " 'CINECA-MARCONI': 'https://grid.hpc.cineca.it:9111/CINECA-MARCONI/rest/core',\n",
       " 'CINECA-GALILEO': 'https://grid.hpc.cineca.it:9111/CINECA-GALILEO/rest/core',\n",
       " 'JUSUF': 'https://zam2125.zam.kfa-juelich.de:9112/JUSUF/rest/core'}"
      ]
     },
     "execution_count": 9,
     "metadata": {},
     "output_type": "execute_result"
    }
   ],
   "source": [
    "# Valid choices for supercomputers are one of the keys in:\n",
    "r.site_urls"
   ]
  },
  {
   "cell_type": "code",
   "execution_count": 11,
   "metadata": {},
   "outputs": [],
   "source": [
    "# create client\n",
    "try:\n",
    "    site_client = r.site(supercomputer)\n",
    "except KeyError:\n",
    "    site_client = unicore_client.Client(r.transport, 'https://zam2125.zam.kfa-juelich.de:9112/JUSUF/rest/core')"
   ]
  },
  {
   "cell_type": "code",
   "execution_count": 10,
   "metadata": {},
   "outputs": [
    {
     "name": "stdout",
     "output_type": "stream",
     "text": [
      "Status code 200 \n",
      "Content-type application/json \n"
     ]
    }
   ],
   "source": [
    "# check connection to supercomputer\n",
    "headers = {}\n",
    "headers[\"Authorization\"] = \"Bearer \" + clb_oauth.get_token()\n",
    "headers['Accept'] = \"application/json\"\n",
    "rs = requests.get(url=site_client.site_url, headers=headers, verify=False)\n",
    "print(\"Status code %s \" % rs.status_code)\n",
    "print(\"Content-type %s \" % rs.headers['Content-Type'])\n",
    "reply = rs.json()\n",
    "# print(json.dumps(reply, indent = 1))"
   ]
  },
  {
   "cell_type": "code",
   "execution_count": 12,
   "metadata": {},
   "outputs": [
    {
     "name": "stdout",
     "output_type": "stream",
     "text": [
      "Status code 200 \n",
      "Content-type application/json \n"
     ]
    }
   ],
   "source": [
    "# check connection to supercomputer\n",
    "# base = r.site_urls[supercomputer]\n",
    "headers = {}\n",
    "headers[\"Authorization\"] = \"Bearer \" + clb_oauth.get_token()\n",
    "headers['Accept'] = \"application/json\"\n",
    "rs = requests.get(url='https://zam2125.zam.kfa-juelich.de:9112/JUSUF/rest/core', headers=headers, verify=False)\n",
    "print(\"Status code %s \" % rs.status_code)\n",
    "print(\"Content-type %s \" % rs.headers['Content-Type'])\n",
    "reply = rs.json()\n",
    "# print(json.dumps(reply, indent = 1))"
   ]
  },
  {
   "cell_type": "markdown",
   "metadata": {},
   "source": [
    "## Prepare singularity container\n",
    "See https://gitlab.version.fz-juelich.de/bvonstvieth_publications/container_userdoc_tmp for details. \n",
    "\n",
    "This step builds the singularity container. It is optional if the recipe has already been uploaded and built on the system. \n",
    "\n",
    "The procedure may be different on different HPC backends. \n",
    "The container can either way be built from the same recipe: https://raw.githubusercontent.com/LFPy/LFPydebian/main/mpich.Dockerfile"
   ]
  },
  {
   "cell_type": "markdown",
   "metadata": {},
   "source": [
    "Turn the below Raw block into Code in order to run:"
   ]
  },
  {
   "cell_type": "raw",
   "metadata": {},
   "source": [
    "# build singularity container with LFPy using a Dockerfile. \n",
    "# This step only needs to be done once. \n",
    "build_job = {\n",
    "  \"Executable\" : \"\"\"module use $OTHERSTAGES\n",
    "module --force purge\n",
    "module load Stages/2020\n",
    "module load GCC Singularity-Tools\n",
    "\n",
    "mkdir -p ~/.config/sib\n",
    "cat > ~/.config/sib/settings.ini <<'EOF'\n",
    "[config]\n",
    "url_prefix=https://sbuild-hps.fz-juelich.de/\n",
    "EOF\n",
    "\n",
    "wget https://raw.githubusercontent.com/LFPy/LFPydebian/main/mpich.Dockerfile\n",
    "sib upload ./mpich.Dockerfile lfpydebian_mpich\n",
    "sib build −−recipe−name lfpydebian_mpich −−blocking\n",
    "\"\"\",\n",
    "    \n",
    "  \"Job type\": \"interactive\",\n",
    "}\n",
    "build_job = site_client.new_job(job_description=build_job, inputs=[])"
   ]
  },
  {
   "cell_type": "markdown",
   "metadata": {},
   "source": [
    "## Prepare main simulation job\n",
    "\n",
    "This step combines in a single session the following:\n",
    "\n",
    "- download LFPy container\n",
    "- ask for resources (# nodes, # MPI processes, # seconds runtime)\n",
    "- execute simulation"
   ]
  },
  {
   "cell_type": "code",
   "execution_count": 29,
   "metadata": {},
   "outputs": [],
   "source": [
    "# create dictionary with job specification and define list of input files from this Collab\n",
    "# simulation_job = {\"Job type\": \"interactive\"}\n",
    "simulation_job = {}\n",
    "simulation_inputs = []"
   ]
  },
  {
   "cell_type": "code",
   "execution_count": 30,
   "metadata": {},
   "outputs": [],
   "source": [
    "# Resources\n",
    "simulation_job['Resources'] = {\n",
    "    \"Queue\": \"batch\",\n",
    "    \"CPUs\": \"1\",\n",
    "    \"Runtime\": \"600\",\n",
    "}"
   ]
  },
  {
   "cell_type": "code",
   "execution_count": 31,
   "metadata": {},
   "outputs": [],
   "source": [
    "# commands run on login node before job execution\n",
    "simulation_job[\"User precommand\"] = \"\"\"module use $OTHERSTAGES\n",
    "module --force purge\n",
    "module load Stages/2020\n",
    "module load GCC Singularity-Tools\n",
    "sib download --recipe-name lfpydebian_mpich\n",
    "\"\"\"\n",
    "simulation_job[\"RunUserPrecommandOnLoginNode\"] = \"true\""
   ]
  },
  {
   "cell_type": "code",
   "execution_count": 32,
   "metadata": {},
   "outputs": [],
   "source": [
    "# - set some environment variables\n",
    "# - run the python code using interpreter embedded in container\n",
    "simulation_job[\"Executable\"] = \"\"\"module use $OTHERSTAGES\n",
    "module --force purge\n",
    "module load Stages/2020\n",
    "module load GCC Singularity-Tools\n",
    "unset DISPLAY  # matplotlib may look for a nonexistant display on compute node \n",
    "singularity exec lfpydebian_mpich.sif python3 -c \"import LFPy; LFPy.run_tests()\"\n",
    "\"\"\""
   ]
  },
  {
   "cell_type": "code",
   "execution_count": 33,
   "metadata": {},
   "outputs": [],
   "source": [
    "# commands run after job is done\n",
    "simulation_job[\"User postcommand\"] = \"\" \n",
    "simulation_job[\"RunUserPostcommandOnLoginNode\"] = \"true\""
   ]
  },
  {
   "cell_type": "code",
   "execution_count": 34,
   "metadata": {},
   "outputs": [
    {
     "data": {
      "text/plain": [
       "{'Resources': {'Queue': 'batch', 'CPUs': '1', 'Runtime': '600'},\n",
       " 'User precommand': 'module use $OTHERSTAGES\\nmodule --force purge\\nmodule load Stages/2020\\nmodule load GCC Singularity-Tools\\nsib download --recipe-name lfpydebian_mpich\\n',\n",
       " 'RunUserPrecommandOnLoginNode': 'true',\n",
       " 'Executable': 'module use $OTHERSTAGES\\nmodule --force purge\\nmodule load Stages/2020\\nmodule load GCC Singularity-Tools\\nunset DISPLAY  # matplotlib may look for a nonexistant display on compute node \\nsingularity exec lfpydebian_mpich.sif python3 -c \"import LFPy; LFPy.run_tests()\"\\n',\n",
       " 'User postcommand': '',\n",
       " 'RunUserPostcommandOnLoginNode': 'true'}"
      ]
     },
     "execution_count": 34,
     "metadata": {},
     "output_type": "execute_result"
    }
   ],
   "source": [
    "simulation_job"
   ]
  },
  {
   "cell_type": "code",
   "execution_count": 35,
   "metadata": {},
   "outputs": [],
   "source": [
    "# create job\n",
    "job = site_client.new_job(job_description=simulation_job, inputs=simulation_inputs)"
   ]
  },
  {
   "cell_type": "code",
   "execution_count": 36,
   "metadata": {},
   "outputs": [],
   "source": [
    "# wait while job is running\n",
    "while job.is_running():\n",
    "    sleep(10)"
   ]
  },
  {
   "cell_type": "code",
   "execution_count": 37,
   "metadata": {},
   "outputs": [
    {
     "data": {
      "text/plain": [
       "dict_keys(['UNICORE_SCRIPT_EXIT_CODE', 'stderr', 'lfpydebian_mpich.sif', 'bss_submit_1603720273767', 'stdout', '.UNICORE_POST_0/', '.UNICORE_PRE_0/', 'UNICORE_Job_1603720273767'])"
      ]
     },
     "execution_count": 37,
     "metadata": {},
     "output_type": "execute_result"
    }
   ],
   "source": [
    "job.working_dir.listdir().keys()"
   ]
  },
  {
   "cell_type": "code",
   "execution_count": 38,
   "metadata": {},
   "outputs": [
    {
     "name": "stdout",
     "output_type": "stream",
     "text": [
      "[b'        Preparing the environment for use of requested stage ( 2020 ).\\n',\n",
      " b'    \\n',\n",
      " b'................./usr/local/lib/python3.7/dist-packages/LFPy/cell.py:185: Us'\n",
      " b\"erWarning: 0 sections detected! Consider setting 'delete_sections=True'\\n\",\n",
      " b'  warn(mssg)\\n',\n",
      " b'./usr/local/lib/python3.7/dist-packages/LFPy/cell.py:185: UserWarning: 4 sec'\n",
      " b\"tions detected! Consider setting 'delete_sections=True'\\n\"]\n",
      "[b'..\\n',\n",
      " b'----------------------------------------------------------------------\\n',\n",
      " b'Ran 2 tests in 0.548s\\n',\n",
      " b'\\n',\n",
      " b'OK\\n']\n"
     ]
    }
   ],
   "source": [
    "# STDERR output (if any)\n",
    "stderr = job.working_dir.stat('stderr')\n",
    "pprint(stderr.raw().readlines()[:5])\n",
    "pprint(stderr.raw().readlines()[-5:])"
   ]
  },
  {
   "cell_type": "code",
   "execution_count": 40,
   "metadata": {},
   "outputs": [
    {
     "name": "stdout",
     "output_type": "stream",
     "text": [
      "[b'Mechanisms already loaded from path: /usr/local/lib/python3.7/dist-packages/'\n",
      " b'LFPy/test.  Aborting.\\n',\n",
      " b'Mechanisms already loaded from path: /usr/local/lib/python3.7/dist-packages/'\n",
      " b'LFPy/test.  Aborting.\\n',\n",
      " b'Mechanisms already loaded from path: /usr/local/lib/python3.7/dist-packages/'\n",
      " b'LFPy/test.  Aborting.\\n',\n",
      " b'Mechanisms already loaded from path: /usr/local/lib/python3.7/dist-packages/'\n",
      " b'LFPy/test.  Aborting.\\n',\n",
      " b'\\n',\n",
      " b'test LFPy.Cell class and methods:\\n',\n",
      " b'\\n',\n",
      " b'\\n',\n",
      " b'\\n',\n",
      " b'test LFPy.TemplateCell class and methods:\\n',\n",
      " b'\\n',\n",
      " b'test LFPy.lfpcalc methods:\\n',\n",
      " b'\\n',\n",
      " b'test LFPy.RecExtElectrode class and methods:\\n',\n",
      " b'\\n',\n",
      " b'test LFPy.NetworkCell class and methods:\\n',\n",
      " b'\\n',\n",
      " b'test LFPy.NetworkPopulation class and methods:\\n',\n",
      " b'\\n',\n",
      " b'test LFPy.Network class and methods:\\n',\n",
      " b'Connected population test to test by 5 connections and 19 synapses\\n',\n",
      " b't = 100.0 ms\\n',\n",
      " b'Connected population test to test by 6 connections and 24 synapses\\n',\n",
      " b't = 100.0 ms\\n',\n",
      " b'Connected population test to test by 12 connections and 12 synapses\\n',\n",
      " b't = 100.0 ms\\n',\n",
      " b'Connected population test to test by 5 connections and 13 synapses\\n',\n",
      " b't = 100.0 ms\\n',\n",
      " b't = 100.0 ms\\n',\n",
      " b'Connected population test to test by 10 connections and 39 synapses\\n',\n",
      " b't = 100.0 ms\\n',\n",
      " b'\\n',\n",
      " b'test LFPy.MEG class and methods:\\n',\n",
      " b'\\n',\n",
      " b'test LFPy.FourSphereVolumeConductor class and methods:\\n',\n",
      " b'\\n',\n",
      " b'test LFPy.InfiniteVolumeConductor class and methods:\\n',\n",
      " b'\\n',\n",
      " b'test LFPy.alias_method methods:\\n',\n",
      " b'\\n',\n",
      " b'test LFPy.PointProcess class and methods:\\n',\n",
      " b'\\n',\n",
      " b'test LFPy.Synapse class and methods:\\n',\n",
      " b'\\n',\n",
      " b'test LFPy.StimIntElectrode class and methods:\\n',\n",
      " b'\\n',\n",
      " b'test LFPy.inputgenerators methods:\\n',\n",
      " b'\\n',\n",
      " b'test misc. methods:\\n']\n"
     ]
    }
   ],
   "source": [
    "# STDOUT output\n",
    "stdout = job.working_dir.stat('stdout')\n",
    "pprint(stdout.raw().readlines())"
   ]
  },
  {
   "cell_type": "code",
   "execution_count": 41,
   "metadata": {},
   "outputs": [],
   "source": [
    "# kill job, clean up files on the remote\n",
    "job.delete()"
   ]
  },
  {
   "cell_type": "code",
   "execution_count": null,
   "metadata": {},
   "outputs": [],
   "source": []
  }
 ],
 "metadata": {
  "kernelspec": {
   "display_name": "Python 3",
   "language": "python",
   "name": "python3"
  },
  "language_info": {
   "codemirror_mode": {
    "name": "ipython",
    "version": 3
   },
   "file_extension": ".py",
   "mimetype": "text/x-python",
   "name": "python",
   "nbconvert_exporter": "python",
   "pygments_lexer": "ipython3",
   "version": "3.6.9"
  }
 },
 "nbformat": 4,
 "nbformat_minor": 4
}
